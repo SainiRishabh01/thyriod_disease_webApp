{
 "cells": [
  {
   "cell_type": "code",
   "execution_count": 1,
   "id": "d3053396",
   "metadata": {
    "_cell_guid": "b1076dfc-b9ad-4769-8c92-a6c4dae69d19",
    "_uuid": "8f2839f25d086af736a60e9eeb907d3b93b6e0e5",
    "execution": {
     "iopub.execute_input": "2023-07-24T05:11:27.785328Z",
     "iopub.status.busy": "2023-07-24T05:11:27.784948Z",
     "iopub.status.idle": "2023-07-24T05:11:29.221212Z",
     "shell.execute_reply": "2023-07-24T05:11:29.219809Z"
    },
    "papermill": {
     "duration": 1.4459,
     "end_time": "2023-07-24T05:11:29.223655",
     "exception": false,
     "start_time": "2023-07-24T05:11:27.777755",
     "status": "completed"
    },
    "tags": []
   },
   "outputs": [],
   "source": [
    "\n",
    "import numpy as np \n",
    "import pandas as pd )\n",
    "import seaborn as sns\n",
    "from scipy import stats\n"
   ]
  },
  {
   "cell_type": "code",
   "execution_count": 2,
   "id": "80259553",
   "metadata": {
    "execution": {
     "iopub.execute_input": "2023-07-24T05:11:29.238003Z",
     "iopub.status.busy": "2023-07-24T05:11:29.236753Z",
     "iopub.status.idle": "2023-07-24T05:11:29.300575Z",
     "shell.execute_reply": "2023-07-24T05:11:29.299541Z"
    },
    "papermill": {
     "duration": 0.073456,
     "end_time": "2023-07-24T05:11:29.303287",
     "exception": false,
     "start_time": "2023-07-24T05:11:29.229831",
     "status": "completed"
    },
    "tags": []
   },
   "outputs": [],
   "source": [
    "df = pd.read_csv('thyroidDF.csv')"
   ]
  },
  {
   "cell_type": "code",
   "execution_count": 3,
   "id": "26034839",
   "metadata": {
    "execution": {
     "iopub.execute_input": "2023-07-24T05:11:29.316145Z",
     "iopub.status.busy": "2023-07-24T05:11:29.315724Z",
     "iopub.status.idle": "2023-07-24T05:11:29.354313Z",
     "shell.execute_reply": "2023-07-24T05:11:29.353099Z"
    },
    "papermill": {
     "duration": 0.047718,
     "end_time": "2023-07-24T05:11:29.356558",
     "exception": false,
     "start_time": "2023-07-24T05:11:29.308840",
     "status": "completed"
    },
    "tags": []
   },
   "outputs": [
    {
     "data": {
      "text/html": [
       "<div>\n",
       "<style scoped>\n",
       "    .dataframe tbody tr th:only-of-type {\n",
       "        vertical-align: middle;\n",
       "    }\n",
       "\n",
       "    .dataframe tbody tr th {\n",
       "        vertical-align: top;\n",
       "    }\n",
       "\n",
       "    .dataframe thead th {\n",
       "        text-align: right;\n",
       "    }\n",
       "</style>\n",
       "<table border=\"1\" class=\"dataframe\">\n",
       "  <thead>\n",
       "    <tr style=\"text-align: right;\">\n",
       "      <th></th>\n",
       "      <th>age</th>\n",
       "      <th>sex</th>\n",
       "      <th>on_thyroxine</th>\n",
       "      <th>query_on_thyroxine</th>\n",
       "      <th>on_antithyroid_meds</th>\n",
       "      <th>sick</th>\n",
       "      <th>pregnant</th>\n",
       "      <th>thyroid_surgery</th>\n",
       "      <th>I131_treatment</th>\n",
       "      <th>query_hypothyroid</th>\n",
       "      <th>...</th>\n",
       "      <th>TT4</th>\n",
       "      <th>T4U_measured</th>\n",
       "      <th>T4U</th>\n",
       "      <th>FTI_measured</th>\n",
       "      <th>FTI</th>\n",
       "      <th>TBG_measured</th>\n",
       "      <th>TBG</th>\n",
       "      <th>referral_source</th>\n",
       "      <th>target</th>\n",
       "      <th>patient_id</th>\n",
       "    </tr>\n",
       "  </thead>\n",
       "  <tbody>\n",
       "    <tr>\n",
       "      <th>0</th>\n",
       "      <td>29</td>\n",
       "      <td>F</td>\n",
       "      <td>f</td>\n",
       "      <td>f</td>\n",
       "      <td>f</td>\n",
       "      <td>f</td>\n",
       "      <td>f</td>\n",
       "      <td>f</td>\n",
       "      <td>f</td>\n",
       "      <td>t</td>\n",
       "      <td>...</td>\n",
       "      <td>NaN</td>\n",
       "      <td>f</td>\n",
       "      <td>NaN</td>\n",
       "      <td>f</td>\n",
       "      <td>NaN</td>\n",
       "      <td>f</td>\n",
       "      <td>NaN</td>\n",
       "      <td>other</td>\n",
       "      <td>-</td>\n",
       "      <td>840801013</td>\n",
       "    </tr>\n",
       "    <tr>\n",
       "      <th>1</th>\n",
       "      <td>29</td>\n",
       "      <td>F</td>\n",
       "      <td>f</td>\n",
       "      <td>f</td>\n",
       "      <td>f</td>\n",
       "      <td>f</td>\n",
       "      <td>f</td>\n",
       "      <td>f</td>\n",
       "      <td>f</td>\n",
       "      <td>f</td>\n",
       "      <td>...</td>\n",
       "      <td>128.0</td>\n",
       "      <td>f</td>\n",
       "      <td>NaN</td>\n",
       "      <td>f</td>\n",
       "      <td>NaN</td>\n",
       "      <td>f</td>\n",
       "      <td>NaN</td>\n",
       "      <td>other</td>\n",
       "      <td>-</td>\n",
       "      <td>840801014</td>\n",
       "    </tr>\n",
       "    <tr>\n",
       "      <th>2</th>\n",
       "      <td>41</td>\n",
       "      <td>F</td>\n",
       "      <td>f</td>\n",
       "      <td>f</td>\n",
       "      <td>f</td>\n",
       "      <td>f</td>\n",
       "      <td>f</td>\n",
       "      <td>f</td>\n",
       "      <td>f</td>\n",
       "      <td>f</td>\n",
       "      <td>...</td>\n",
       "      <td>NaN</td>\n",
       "      <td>f</td>\n",
       "      <td>NaN</td>\n",
       "      <td>f</td>\n",
       "      <td>NaN</td>\n",
       "      <td>t</td>\n",
       "      <td>11.0</td>\n",
       "      <td>other</td>\n",
       "      <td>-</td>\n",
       "      <td>840801042</td>\n",
       "    </tr>\n",
       "    <tr>\n",
       "      <th>3</th>\n",
       "      <td>36</td>\n",
       "      <td>F</td>\n",
       "      <td>f</td>\n",
       "      <td>f</td>\n",
       "      <td>f</td>\n",
       "      <td>f</td>\n",
       "      <td>f</td>\n",
       "      <td>f</td>\n",
       "      <td>f</td>\n",
       "      <td>f</td>\n",
       "      <td>...</td>\n",
       "      <td>NaN</td>\n",
       "      <td>f</td>\n",
       "      <td>NaN</td>\n",
       "      <td>f</td>\n",
       "      <td>NaN</td>\n",
       "      <td>t</td>\n",
       "      <td>26.0</td>\n",
       "      <td>other</td>\n",
       "      <td>-</td>\n",
       "      <td>840803046</td>\n",
       "    </tr>\n",
       "    <tr>\n",
       "      <th>4</th>\n",
       "      <td>32</td>\n",
       "      <td>F</td>\n",
       "      <td>f</td>\n",
       "      <td>f</td>\n",
       "      <td>f</td>\n",
       "      <td>f</td>\n",
       "      <td>f</td>\n",
       "      <td>f</td>\n",
       "      <td>f</td>\n",
       "      <td>f</td>\n",
       "      <td>...</td>\n",
       "      <td>NaN</td>\n",
       "      <td>f</td>\n",
       "      <td>NaN</td>\n",
       "      <td>f</td>\n",
       "      <td>NaN</td>\n",
       "      <td>t</td>\n",
       "      <td>36.0</td>\n",
       "      <td>other</td>\n",
       "      <td>S</td>\n",
       "      <td>840803047</td>\n",
       "    </tr>\n",
       "  </tbody>\n",
       "</table>\n",
       "<p>5 rows × 31 columns</p>\n",
       "</div>"
      ],
      "text/plain": [
       "   age sex on_thyroxine query_on_thyroxine on_antithyroid_meds sick pregnant  \\\n",
       "0   29   F            f                  f                   f    f        f   \n",
       "1   29   F            f                  f                   f    f        f   \n",
       "2   41   F            f                  f                   f    f        f   \n",
       "3   36   F            f                  f                   f    f        f   \n",
       "4   32   F            f                  f                   f    f        f   \n",
       "\n",
       "  thyroid_surgery I131_treatment query_hypothyroid  ...    TT4 T4U_measured  \\\n",
       "0               f              f                 t  ...    NaN            f   \n",
       "1               f              f                 f  ...  128.0            f   \n",
       "2               f              f                 f  ...    NaN            f   \n",
       "3               f              f                 f  ...    NaN            f   \n",
       "4               f              f                 f  ...    NaN            f   \n",
       "\n",
       "  T4U FTI_measured FTI TBG_measured   TBG  referral_source target  patient_id  \n",
       "0 NaN            f NaN            f   NaN            other      -   840801013  \n",
       "1 NaN            f NaN            f   NaN            other      -   840801014  \n",
       "2 NaN            f NaN            t  11.0            other      -   840801042  \n",
       "3 NaN            f NaN            t  26.0            other      -   840803046  \n",
       "4 NaN            f NaN            t  36.0            other      S   840803047  \n",
       "\n",
       "[5 rows x 31 columns]"
      ]
     },
     "execution_count": 3,
     "metadata": {},
     "output_type": "execute_result"
    }
   ],
   "source": [
    "df.head()"
   ]
  },
  {
   "cell_type": "code",
   "execution_count": 4,
   "id": "c5fcf189",
   "metadata": {
    "execution": {
     "iopub.execute_input": "2023-07-24T05:11:29.370219Z",
     "iopub.status.busy": "2023-07-24T05:11:29.369840Z",
     "iopub.status.idle": "2023-07-24T05:11:29.431619Z",
     "shell.execute_reply": "2023-07-24T05:11:29.430433Z"
    },
    "papermill": {
     "duration": 0.07143,
     "end_time": "2023-07-24T05:11:29.433995",
     "exception": false,
     "start_time": "2023-07-24T05:11:29.362565",
     "status": "completed"
    },
    "tags": []
   },
   "outputs": [
    {
     "name": "stdout",
     "output_type": "stream",
     "text": [
      "<class 'pandas.core.frame.DataFrame'>\n",
      "RangeIndex: 9172 entries, 0 to 9171\n",
      "Data columns (total 31 columns):\n",
      " #   Column               Non-Null Count  Dtype  \n",
      "---  ------               --------------  -----  \n",
      " 0   age                  9172 non-null   int64  \n",
      " 1   sex                  8865 non-null   object \n",
      " 2   on_thyroxine         9172 non-null   object \n",
      " 3   query_on_thyroxine   9172 non-null   object \n",
      " 4   on_antithyroid_meds  9172 non-null   object \n",
      " 5   sick                 9172 non-null   object \n",
      " 6   pregnant             9172 non-null   object \n",
      " 7   thyroid_surgery      9172 non-null   object \n",
      " 8   I131_treatment       9172 non-null   object \n",
      " 9   query_hypothyroid    9172 non-null   object \n",
      " 10  query_hyperthyroid   9172 non-null   object \n",
      " 11  lithium              9172 non-null   object \n",
      " 12  goitre               9172 non-null   object \n",
      " 13  tumor                9172 non-null   object \n",
      " 14  hypopituitary        9172 non-null   object \n",
      " 15  psych                9172 non-null   object \n",
      " 16  TSH_measured         9172 non-null   object \n",
      " 17  TSH                  8330 non-null   float64\n",
      " 18  T3_measured          9172 non-null   object \n",
      " 19  T3                   6568 non-null   float64\n",
      " 20  TT4_measured         9172 non-null   object \n",
      " 21  TT4                  8730 non-null   float64\n",
      " 22  T4U_measured         9172 non-null   object \n",
      " 23  T4U                  8363 non-null   float64\n",
      " 24  FTI_measured         9172 non-null   object \n",
      " 25  FTI                  8370 non-null   float64\n",
      " 26  TBG_measured         9172 non-null   object \n",
      " 27  TBG                  349 non-null    float64\n",
      " 28  referral_source      9172 non-null   object \n",
      " 29  target               9172 non-null   object \n",
      " 30  patient_id           9172 non-null   int64  \n",
      "dtypes: float64(6), int64(2), object(23)\n",
      "memory usage: 2.2+ MB\n"
     ]
    }
   ],
   "source": [
    "df.info()"
   ]
  },
  {
   "cell_type": "code",
   "execution_count": 5,
   "id": "81ba81c8",
   "metadata": {
    "execution": {
     "iopub.execute_input": "2023-07-24T05:11:29.448419Z",
     "iopub.status.busy": "2023-07-24T05:11:29.447266Z",
     "iopub.status.idle": "2023-07-24T05:11:29.458050Z",
     "shell.execute_reply": "2023-07-24T05:11:29.457037Z"
    },
    "papermill": {
     "duration": 0.020454,
     "end_time": "2023-07-24T05:11:29.460299",
     "exception": false,
     "start_time": "2023-07-24T05:11:29.439845",
     "status": "completed"
    },
    "tags": []
   },
   "outputs": [
    {
     "data": {
      "text/plain": [
       "0"
      ]
     },
     "execution_count": 5,
     "metadata": {},
     "output_type": "execute_result"
    }
   ],
   "source": [
    "len(df['patient_id'])-len(df['patient_id'].drop_duplicates())"
   ]
  },
  {
   "cell_type": "code",
   "execution_count": 6,
   "id": "1ff3571d",
   "metadata": {
    "execution": {
     "iopub.execute_input": "2023-07-24T05:11:29.474244Z",
     "iopub.status.busy": "2023-07-24T05:11:29.473823Z",
     "iopub.status.idle": "2023-07-24T05:11:29.481528Z",
     "shell.execute_reply": "2023-07-24T05:11:29.480339Z"
    },
    "papermill": {
     "duration": 0.01754,
     "end_time": "2023-07-24T05:11:29.483892",
     "exception": false,
     "start_time": "2023-07-24T05:11:29.466352",
     "status": "completed"
    },
    "tags": []
   },
   "outputs": [],
   "source": [
    "df = df.drop(['patient_id','referral_source','query_on_thyroxine','TBG','TBG_measured','FTI_measured','TT4_measured','T4U_measured','TSH_measured','T3_measured','T3'],axis=1) "
   ]
  },
  {
   "cell_type": "code",
   "execution_count": 7,
   "id": "bab72917",
   "metadata": {
    "execution": {
     "iopub.execute_input": "2023-07-24T05:11:29.497982Z",
     "iopub.status.busy": "2023-07-24T05:11:29.497571Z",
     "iopub.status.idle": "2023-07-24T05:11:29.527282Z",
     "shell.execute_reply": "2023-07-24T05:11:29.526042Z"
    },
    "papermill": {
     "duration": 0.039637,
     "end_time": "2023-07-24T05:11:29.529728",
     "exception": false,
     "start_time": "2023-07-24T05:11:29.490091",
     "status": "completed"
    },
    "tags": []
   },
   "outputs": [],
   "source": [
    "df = df.dropna()"
   ]
  },
  {
   "cell_type": "code",
   "execution_count": 8,
   "id": "691e3098",
   "metadata": {
    "execution": {
     "iopub.execute_input": "2023-07-24T05:11:29.544500Z",
     "iopub.status.busy": "2023-07-24T05:11:29.544110Z",
     "iopub.status.idle": "2023-07-24T05:11:29.568599Z",
     "shell.execute_reply": "2023-07-24T05:11:29.567511Z"
    },
    "papermill": {
     "duration": 0.035422,
     "end_time": "2023-07-24T05:11:29.571176",
     "exception": false,
     "start_time": "2023-07-24T05:11:29.535754",
     "status": "completed"
    },
    "tags": []
   },
   "outputs": [
    {
     "data": {
      "text/html": [
       "<div>\n",
       "<style scoped>\n",
       "    .dataframe tbody tr th:only-of-type {\n",
       "        vertical-align: middle;\n",
       "    }\n",
       "\n",
       "    .dataframe tbody tr th {\n",
       "        vertical-align: top;\n",
       "    }\n",
       "\n",
       "    .dataframe thead th {\n",
       "        text-align: right;\n",
       "    }\n",
       "</style>\n",
       "<table border=\"1\" class=\"dataframe\">\n",
       "  <thead>\n",
       "    <tr style=\"text-align: right;\">\n",
       "      <th></th>\n",
       "      <th>age</th>\n",
       "      <th>sex</th>\n",
       "      <th>on_thyroxine</th>\n",
       "      <th>on_antithyroid_meds</th>\n",
       "      <th>sick</th>\n",
       "      <th>pregnant</th>\n",
       "      <th>thyroid_surgery</th>\n",
       "      <th>I131_treatment</th>\n",
       "      <th>query_hypothyroid</th>\n",
       "      <th>query_hyperthyroid</th>\n",
       "      <th>lithium</th>\n",
       "      <th>goitre</th>\n",
       "      <th>tumor</th>\n",
       "      <th>hypopituitary</th>\n",
       "      <th>psych</th>\n",
       "      <th>TSH</th>\n",
       "      <th>TT4</th>\n",
       "      <th>T4U</th>\n",
       "      <th>FTI</th>\n",
       "      <th>target</th>\n",
       "    </tr>\n",
       "  </thead>\n",
       "  <tbody>\n",
       "    <tr>\n",
       "      <th>18</th>\n",
       "      <td>63</td>\n",
       "      <td>F</td>\n",
       "      <td>t</td>\n",
       "      <td>f</td>\n",
       "      <td>t</td>\n",
       "      <td>f</td>\n",
       "      <td>f</td>\n",
       "      <td>f</td>\n",
       "      <td>f</td>\n",
       "      <td>f</td>\n",
       "      <td>f</td>\n",
       "      <td>f</td>\n",
       "      <td>f</td>\n",
       "      <td>f</td>\n",
       "      <td>f</td>\n",
       "      <td>68.00</td>\n",
       "      <td>48.0</td>\n",
       "      <td>1.02</td>\n",
       "      <td>47.0</td>\n",
       "      <td>F</td>\n",
       "    </tr>\n",
       "    <tr>\n",
       "      <th>19</th>\n",
       "      <td>36</td>\n",
       "      <td>F</td>\n",
       "      <td>f</td>\n",
       "      <td>f</td>\n",
       "      <td>f</td>\n",
       "      <td>f</td>\n",
       "      <td>f</td>\n",
       "      <td>f</td>\n",
       "      <td>t</td>\n",
       "      <td>t</td>\n",
       "      <td>f</td>\n",
       "      <td>f</td>\n",
       "      <td>f</td>\n",
       "      <td>f</td>\n",
       "      <td>f</td>\n",
       "      <td>1.50</td>\n",
       "      <td>90.0</td>\n",
       "      <td>1.06</td>\n",
       "      <td>85.0</td>\n",
       "      <td>-</td>\n",
       "    </tr>\n",
       "    <tr>\n",
       "      <th>21</th>\n",
       "      <td>40</td>\n",
       "      <td>F</td>\n",
       "      <td>f</td>\n",
       "      <td>f</td>\n",
       "      <td>f</td>\n",
       "      <td>f</td>\n",
       "      <td>f</td>\n",
       "      <td>f</td>\n",
       "      <td>f</td>\n",
       "      <td>f</td>\n",
       "      <td>f</td>\n",
       "      <td>f</td>\n",
       "      <td>f</td>\n",
       "      <td>f</td>\n",
       "      <td>f</td>\n",
       "      <td>1.20</td>\n",
       "      <td>104.0</td>\n",
       "      <td>1.08</td>\n",
       "      <td>96.0</td>\n",
       "      <td>-</td>\n",
       "    </tr>\n",
       "    <tr>\n",
       "      <th>22</th>\n",
       "      <td>40</td>\n",
       "      <td>F</td>\n",
       "      <td>f</td>\n",
       "      <td>f</td>\n",
       "      <td>f</td>\n",
       "      <td>f</td>\n",
       "      <td>f</td>\n",
       "      <td>f</td>\n",
       "      <td>f</td>\n",
       "      <td>f</td>\n",
       "      <td>f</td>\n",
       "      <td>f</td>\n",
       "      <td>f</td>\n",
       "      <td>f</td>\n",
       "      <td>f</td>\n",
       "      <td>5.90</td>\n",
       "      <td>88.0</td>\n",
       "      <td>0.84</td>\n",
       "      <td>105.0</td>\n",
       "      <td>-</td>\n",
       "    </tr>\n",
       "    <tr>\n",
       "      <th>23</th>\n",
       "      <td>77</td>\n",
       "      <td>F</td>\n",
       "      <td>f</td>\n",
       "      <td>f</td>\n",
       "      <td>f</td>\n",
       "      <td>f</td>\n",
       "      <td>f</td>\n",
       "      <td>f</td>\n",
       "      <td>f</td>\n",
       "      <td>f</td>\n",
       "      <td>f</td>\n",
       "      <td>f</td>\n",
       "      <td>f</td>\n",
       "      <td>f</td>\n",
       "      <td>f</td>\n",
       "      <td>0.05</td>\n",
       "      <td>107.0</td>\n",
       "      <td>1.13</td>\n",
       "      <td>95.0</td>\n",
       "      <td>-</td>\n",
       "    </tr>\n",
       "  </tbody>\n",
       "</table>\n",
       "</div>"
      ],
      "text/plain": [
       "    age sex on_thyroxine on_antithyroid_meds sick pregnant thyroid_surgery  \\\n",
       "18   63   F            t                   f    t        f               f   \n",
       "19   36   F            f                   f    f        f               f   \n",
       "21   40   F            f                   f    f        f               f   \n",
       "22   40   F            f                   f    f        f               f   \n",
       "23   77   F            f                   f    f        f               f   \n",
       "\n",
       "   I131_treatment query_hypothyroid query_hyperthyroid lithium goitre tumor  \\\n",
       "18              f                 f                  f       f      f     f   \n",
       "19              f                 t                  t       f      f     f   \n",
       "21              f                 f                  f       f      f     f   \n",
       "22              f                 f                  f       f      f     f   \n",
       "23              f                 f                  f       f      f     f   \n",
       "\n",
       "   hypopituitary psych    TSH    TT4   T4U    FTI target  \n",
       "18             f     f  68.00   48.0  1.02   47.0      F  \n",
       "19             f     f   1.50   90.0  1.06   85.0      -  \n",
       "21             f     f   1.20  104.0  1.08   96.0      -  \n",
       "22             f     f   5.90   88.0  0.84  105.0      -  \n",
       "23             f     f   0.05  107.0  1.13   95.0      -  "
      ]
     },
     "execution_count": 8,
     "metadata": {},
     "output_type": "execute_result"
    }
   ],
   "source": [
    "df.head()"
   ]
  },
  {
   "cell_type": "code",
   "execution_count": 9,
   "id": "9eaee593",
   "metadata": {
    "execution": {
     "iopub.execute_input": "2023-07-24T05:11:29.585435Z",
     "iopub.status.busy": "2023-07-24T05:11:29.585061Z",
     "iopub.status.idle": "2023-07-24T05:11:29.618153Z",
     "shell.execute_reply": "2023-07-24T05:11:29.616413Z"
    },
    "papermill": {
     "duration": 0.042884,
     "end_time": "2023-07-24T05:11:29.620559",
     "exception": false,
     "start_time": "2023-07-24T05:11:29.577675",
     "status": "completed"
    },
    "tags": []
   },
   "outputs": [
    {
     "name": "stdout",
     "output_type": "stream",
     "text": [
      "<class 'pandas.core.frame.DataFrame'>\n",
      "Int64Index: 7652 entries, 18 to 9157\n",
      "Data columns (total 20 columns):\n",
      " #   Column               Non-Null Count  Dtype  \n",
      "---  ------               --------------  -----  \n",
      " 0   age                  7652 non-null   int64  \n",
      " 1   sex                  7652 non-null   object \n",
      " 2   on_thyroxine         7652 non-null   object \n",
      " 3   on_antithyroid_meds  7652 non-null   object \n",
      " 4   sick                 7652 non-null   object \n",
      " 5   pregnant             7652 non-null   object \n",
      " 6   thyroid_surgery      7652 non-null   object \n",
      " 7   I131_treatment       7652 non-null   object \n",
      " 8   query_hypothyroid    7652 non-null   object \n",
      " 9   query_hyperthyroid   7652 non-null   object \n",
      " 10  lithium              7652 non-null   object \n",
      " 11  goitre               7652 non-null   object \n",
      " 12  tumor                7652 non-null   object \n",
      " 13  hypopituitary        7652 non-null   object \n",
      " 14  psych                7652 non-null   object \n",
      " 15  TSH                  7652 non-null   float64\n",
      " 16  TT4                  7652 non-null   float64\n",
      " 17  T4U                  7652 non-null   float64\n",
      " 18  FTI                  7652 non-null   float64\n",
      " 19  target               7652 non-null   object \n",
      "dtypes: float64(4), int64(1), object(15)\n",
      "memory usage: 1.2+ MB\n"
     ]
    }
   ],
   "source": [
    "df.info()"
   ]
  },
  {
   "cell_type": "code",
   "execution_count": 10,
   "id": "812b3ead",
   "metadata": {
    "execution": {
     "iopub.execute_input": "2023-07-24T05:11:29.635068Z",
     "iopub.status.busy": "2023-07-24T05:11:29.634640Z",
     "iopub.status.idle": "2023-07-24T05:11:29.665562Z",
     "shell.execute_reply": "2023-07-24T05:11:29.664219Z"
    },
    "papermill": {
     "duration": 0.041027,
     "end_time": "2023-07-24T05:11:29.668050",
     "exception": false,
     "start_time": "2023-07-24T05:11:29.627023",
     "status": "completed"
    },
    "tags": []
   },
   "outputs": [
    {
     "data": {
      "text/html": [
       "<div>\n",
       "<style scoped>\n",
       "    .dataframe tbody tr th:only-of-type {\n",
       "        vertical-align: middle;\n",
       "    }\n",
       "\n",
       "    .dataframe tbody tr th {\n",
       "        vertical-align: top;\n",
       "    }\n",
       "\n",
       "    .dataframe thead th {\n",
       "        text-align: right;\n",
       "    }\n",
       "</style>\n",
       "<table border=\"1\" class=\"dataframe\">\n",
       "  <thead>\n",
       "    <tr style=\"text-align: right;\">\n",
       "      <th></th>\n",
       "      <th>age</th>\n",
       "      <th>TSH</th>\n",
       "      <th>TT4</th>\n",
       "      <th>T4U</th>\n",
       "      <th>FTI</th>\n",
       "    </tr>\n",
       "  </thead>\n",
       "  <tbody>\n",
       "    <tr>\n",
       "      <th>count</th>\n",
       "      <td>7652.000000</td>\n",
       "      <td>7652.000000</td>\n",
       "      <td>7652.000000</td>\n",
       "      <td>7652.000000</td>\n",
       "      <td>7652.000000</td>\n",
       "    </tr>\n",
       "    <tr>\n",
       "      <th>mean</th>\n",
       "      <td>78.827365</td>\n",
       "      <td>5.173127</td>\n",
       "      <td>108.827543</td>\n",
       "      <td>0.977814</td>\n",
       "      <td>112.890805</td>\n",
       "    </tr>\n",
       "    <tr>\n",
       "      <th>std</th>\n",
       "      <td>1296.169513</td>\n",
       "      <td>24.181834</td>\n",
       "      <td>37.419306</td>\n",
       "      <td>0.198786</td>\n",
       "      <td>36.970210</td>\n",
       "    </tr>\n",
       "    <tr>\n",
       "      <th>min</th>\n",
       "      <td>1.000000</td>\n",
       "      <td>0.005000</td>\n",
       "      <td>2.000000</td>\n",
       "      <td>0.170000</td>\n",
       "      <td>1.400000</td>\n",
       "    </tr>\n",
       "    <tr>\n",
       "      <th>25%</th>\n",
       "      <td>38.000000</td>\n",
       "      <td>0.437500</td>\n",
       "      <td>88.000000</td>\n",
       "      <td>0.860000</td>\n",
       "      <td>94.000000</td>\n",
       "    </tr>\n",
       "    <tr>\n",
       "      <th>50%</th>\n",
       "      <td>56.000000</td>\n",
       "      <td>1.300000</td>\n",
       "      <td>105.000000</td>\n",
       "      <td>0.960000</td>\n",
       "      <td>109.000000</td>\n",
       "    </tr>\n",
       "    <tr>\n",
       "      <th>75%</th>\n",
       "      <td>69.000000</td>\n",
       "      <td>2.700000</td>\n",
       "      <td>126.000000</td>\n",
       "      <td>1.062500</td>\n",
       "      <td>128.000000</td>\n",
       "    </tr>\n",
       "    <tr>\n",
       "      <th>max</th>\n",
       "      <td>65526.000000</td>\n",
       "      <td>530.000000</td>\n",
       "      <td>600.000000</td>\n",
       "      <td>2.330000</td>\n",
       "      <td>642.000000</td>\n",
       "    </tr>\n",
       "  </tbody>\n",
       "</table>\n",
       "</div>"
      ],
      "text/plain": [
       "                age          TSH          TT4          T4U          FTI\n",
       "count   7652.000000  7652.000000  7652.000000  7652.000000  7652.000000\n",
       "mean      78.827365     5.173127   108.827543     0.977814   112.890805\n",
       "std     1296.169513    24.181834    37.419306     0.198786    36.970210\n",
       "min        1.000000     0.005000     2.000000     0.170000     1.400000\n",
       "25%       38.000000     0.437500    88.000000     0.860000    94.000000\n",
       "50%       56.000000     1.300000   105.000000     0.960000   109.000000\n",
       "75%       69.000000     2.700000   126.000000     1.062500   128.000000\n",
       "max    65526.000000   530.000000   600.000000     2.330000   642.000000"
      ]
     },
     "execution_count": 10,
     "metadata": {},
     "output_type": "execute_result"
    }
   ],
   "source": [
    "df.describe()"
   ]
  },
  {
   "cell_type": "code",
   "execution_count": 11,
   "id": "c3560acf",
   "metadata": {
    "execution": {
     "iopub.execute_input": "2023-07-24T05:11:29.683006Z",
     "iopub.status.busy": "2023-07-24T05:11:29.682575Z",
     "iopub.status.idle": "2023-07-24T05:11:29.702453Z",
     "shell.execute_reply": "2023-07-24T05:11:29.701477Z"
    },
    "papermill": {
     "duration": 0.03037,
     "end_time": "2023-07-24T05:11:29.704957",
     "exception": false,
     "start_time": "2023-07-24T05:11:29.674587",
     "status": "completed"
    },
    "tags": []
   },
   "outputs": [],
   "source": [
    "df = df[(np.abs(df['age']) < 100)]\n",
    "df = df[(np.abs(stats.zscore(df['TSH'])) < 3)]\n",
    "df = df[(np.abs(stats.zscore(df['FTI'])) < 3)]\n",
    "df = df[(np.abs(stats.zscore(df['TT4'])) < 3)]"
   ]
  },
  {
   "cell_type": "code",
   "execution_count": 12,
   "id": "b5b1d20b",
   "metadata": {
    "execution": {
     "iopub.execute_input": "2023-07-24T05:11:29.720432Z",
     "iopub.status.busy": "2023-07-24T05:11:29.720023Z",
     "iopub.status.idle": "2023-07-24T05:11:29.746679Z",
     "shell.execute_reply": "2023-07-24T05:11:29.745497Z"
    },
    "papermill": {
     "duration": 0.037422,
     "end_time": "2023-07-24T05:11:29.749104",
     "exception": false,
     "start_time": "2023-07-24T05:11:29.711682",
     "status": "completed"
    },
    "tags": []
   },
   "outputs": [
    {
     "data": {
      "text/html": [
       "<div>\n",
       "<style scoped>\n",
       "    .dataframe tbody tr th:only-of-type {\n",
       "        vertical-align: middle;\n",
       "    }\n",
       "\n",
       "    .dataframe tbody tr th {\n",
       "        vertical-align: top;\n",
       "    }\n",
       "\n",
       "    .dataframe thead th {\n",
       "        text-align: right;\n",
       "    }\n",
       "</style>\n",
       "<table border=\"1\" class=\"dataframe\">\n",
       "  <thead>\n",
       "    <tr style=\"text-align: right;\">\n",
       "      <th></th>\n",
       "      <th>age</th>\n",
       "      <th>TSH</th>\n",
       "      <th>TT4</th>\n",
       "      <th>T4U</th>\n",
       "      <th>FTI</th>\n",
       "    </tr>\n",
       "  </thead>\n",
       "  <tbody>\n",
       "    <tr>\n",
       "      <th>count</th>\n",
       "      <td>7366.000000</td>\n",
       "      <td>7366.000000</td>\n",
       "      <td>7366.000000</td>\n",
       "      <td>7366.000000</td>\n",
       "      <td>7366.000000</td>\n",
       "    </tr>\n",
       "    <tr>\n",
       "      <th>mean</th>\n",
       "      <td>53.284958</td>\n",
       "      <td>2.963312</td>\n",
       "      <td>107.291610</td>\n",
       "      <td>0.973336</td>\n",
       "      <td>111.608892</td>\n",
       "    </tr>\n",
       "    <tr>\n",
       "      <th>std</th>\n",
       "      <td>18.770833</td>\n",
       "      <td>6.665299</td>\n",
       "      <td>30.103018</td>\n",
       "      <td>0.191846</td>\n",
       "      <td>28.833609</td>\n",
       "    </tr>\n",
       "    <tr>\n",
       "      <th>min</th>\n",
       "      <td>1.000000</td>\n",
       "      <td>0.005000</td>\n",
       "      <td>12.000000</td>\n",
       "      <td>0.170000</td>\n",
       "      <td>9.099999</td>\n",
       "    </tr>\n",
       "    <tr>\n",
       "      <th>25%</th>\n",
       "      <td>38.000000</td>\n",
       "      <td>0.500000</td>\n",
       "      <td>88.000000</td>\n",
       "      <td>0.860000</td>\n",
       "      <td>94.000000</td>\n",
       "    </tr>\n",
       "    <tr>\n",
       "      <th>50%</th>\n",
       "      <td>56.000000</td>\n",
       "      <td>1.400000</td>\n",
       "      <td>104.000000</td>\n",
       "      <td>0.960000</td>\n",
       "      <td>109.000000</td>\n",
       "    </tr>\n",
       "    <tr>\n",
       "      <th>75%</th>\n",
       "      <td>69.000000</td>\n",
       "      <td>2.600000</td>\n",
       "      <td>125.000000</td>\n",
       "      <td>1.060000</td>\n",
       "      <td>127.000000</td>\n",
       "    </tr>\n",
       "    <tr>\n",
       "      <th>max</th>\n",
       "      <td>97.000000</td>\n",
       "      <td>77.000000</td>\n",
       "      <td>204.000000</td>\n",
       "      <td>2.330000</td>\n",
       "      <td>221.000000</td>\n",
       "    </tr>\n",
       "  </tbody>\n",
       "</table>\n",
       "</div>"
      ],
      "text/plain": [
       "               age          TSH          TT4          T4U          FTI\n",
       "count  7366.000000  7366.000000  7366.000000  7366.000000  7366.000000\n",
       "mean     53.284958     2.963312   107.291610     0.973336   111.608892\n",
       "std      18.770833     6.665299    30.103018     0.191846    28.833609\n",
       "min       1.000000     0.005000    12.000000     0.170000     9.099999\n",
       "25%      38.000000     0.500000    88.000000     0.860000    94.000000\n",
       "50%      56.000000     1.400000   104.000000     0.960000   109.000000\n",
       "75%      69.000000     2.600000   125.000000     1.060000   127.000000\n",
       "max      97.000000    77.000000   204.000000     2.330000   221.000000"
      ]
     },
     "execution_count": 12,
     "metadata": {},
     "output_type": "execute_result"
    }
   ],
   "source": [
    "df.describe()"
   ]
  },
  {
   "cell_type": "code",
   "execution_count": 13,
   "id": "165f6c82",
   "metadata": {
    "execution": {
     "iopub.execute_input": "2023-07-24T05:11:29.764601Z",
     "iopub.status.busy": "2023-07-24T05:11:29.764212Z",
     "iopub.status.idle": "2023-07-24T05:11:29.772087Z",
     "shell.execute_reply": "2023-07-24T05:11:29.770889Z"
    },
    "papermill": {
     "duration": 0.018463,
     "end_time": "2023-07-24T05:11:29.774476",
     "exception": false,
     "start_time": "2023-07-24T05:11:29.756013",
     "status": "completed"
    },
    "tags": []
   },
   "outputs": [
    {
     "data": {
      "text/plain": [
       "array(['F', '-', 'AK', 'R', 'I', 'M', 'N', 'G', 'K', 'L', 'Q', 'J', 'C|I',\n",
       "       'O', 'A', 'H|K', 'GK', 'MI', 'KJ', 'P', 'FK', 'B', 'MK', 'GI', 'C',\n",
       "       'GKJ', 'OI'], dtype=object)"
      ]
     },
     "execution_count": 13,
     "metadata": {},
     "output_type": "execute_result"
    }
   ],
   "source": [
    "df['target'].unique()"
   ]
  },
  {
   "cell_type": "code",
   "execution_count": 14,
   "id": "5f413475",
   "metadata": {
    "execution": {
     "iopub.execute_input": "2023-07-24T05:11:29.790546Z",
     "iopub.status.busy": "2023-07-24T05:11:29.789732Z",
     "iopub.status.idle": "2023-07-24T05:11:29.807099Z",
     "shell.execute_reply": "2023-07-24T05:11:29.805798Z"
    },
    "papermill": {
     "duration": 0.028475,
     "end_time": "2023-07-24T05:11:29.809985",
     "exception": false,
     "start_time": "2023-07-24T05:11:29.781510",
     "status": "completed"
    },
    "tags": []
   },
   "outputs": [],
   "source": [
    "diagnoses = {'-': 'negative',\n",
    "             'A': 'hyperthyroid', \n",
    "             'B': 'hyperthyroid', \n",
    "             'C': 'hyperthyroid', \n",
    "             'D': 'hyperthyroid',\n",
    "             'E': 'hypothyroid', \n",
    "             'F': 'hypothyroid', \n",
    "             'G': 'hypothyroid', \n",
    "             'H': 'hypothyroid'}\n",
    "\n",
    "df['target'] = df['target'].map(diagnoses)\n",
    "df.dropna(subset=['target'], inplace=True)"
   ]
  },
  {
   "cell_type": "code",
   "execution_count": 15,
   "id": "9d193426",
   "metadata": {
    "execution": {
     "iopub.execute_input": "2023-07-24T05:11:29.825642Z",
     "iopub.status.busy": "2023-07-24T05:11:29.825226Z",
     "iopub.status.idle": "2023-07-24T05:11:29.832398Z",
     "shell.execute_reply": "2023-07-24T05:11:29.831541Z"
    },
    "papermill": {
     "duration": 0.01742,
     "end_time": "2023-07-24T05:11:29.834407",
     "exception": false,
     "start_time": "2023-07-24T05:11:29.816987",
     "status": "completed"
    },
    "tags": []
   },
   "outputs": [
    {
     "data": {
      "text/plain": [
       "array(['hypothyroid', 'negative', 'hyperthyroid'], dtype=object)"
      ]
     },
     "execution_count": 15,
     "metadata": {},
     "output_type": "execute_result"
    }
   ],
   "source": [
    "df['target'].unique()"
   ]
  },
  {
   "cell_type": "code",
   "execution_count": 16,
   "id": "f41b2915",
   "metadata": {
    "execution": {
     "iopub.execute_input": "2023-07-24T05:11:29.850643Z",
     "iopub.status.busy": "2023-07-24T05:11:29.849931Z",
     "iopub.status.idle": "2023-07-24T05:11:29.885058Z",
     "shell.execute_reply": "2023-07-24T05:11:29.883913Z"
    },
    "papermill": {
     "duration": 0.04627,
     "end_time": "2023-07-24T05:11:29.887670",
     "exception": false,
     "start_time": "2023-07-24T05:11:29.841400",
     "status": "completed"
    },
    "tags": []
   },
   "outputs": [],
   "source": [
    "df.replace('f', 0, inplace=True)\n",
    "df.replace('t', 1, inplace=True)\n",
    "\n",
    "df.replace('M', 0, inplace=True)\n",
    "df.replace('F', 1, inplace=True)"
   ]
  },
  {
   "cell_type": "code",
   "execution_count": 17,
   "id": "ec51ab3d",
   "metadata": {
    "execution": {
     "iopub.execute_input": "2023-07-24T05:11:29.903573Z",
     "iopub.status.busy": "2023-07-24T05:11:29.903175Z",
     "iopub.status.idle": "2023-07-24T05:11:29.909849Z",
     "shell.execute_reply": "2023-07-24T05:11:29.909001Z"
    },
    "papermill": {
     "duration": 0.017071,
     "end_time": "2023-07-24T05:11:29.911956",
     "exception": false,
     "start_time": "2023-07-24T05:11:29.894885",
     "status": "completed"
    },
    "tags": []
   },
   "outputs": [],
   "source": [
    "X = df.iloc[:, :-1].values\n",
    "y = df.iloc[:, -1].values"
   ]
  },
  {
   "cell_type": "code",
   "execution_count": 18,
   "id": "886ffa15",
   "metadata": {
    "execution": {
     "iopub.execute_input": "2023-07-24T05:11:29.928366Z",
     "iopub.status.busy": "2023-07-24T05:11:29.927611Z",
     "iopub.status.idle": "2023-07-24T05:11:30.196653Z",
     "shell.execute_reply": "2023-07-24T05:11:30.195567Z"
    },
    "papermill": {
     "duration": 0.280054,
     "end_time": "2023-07-24T05:11:30.199170",
     "exception": false,
     "start_time": "2023-07-24T05:11:29.919116",
     "status": "completed"
    },
    "tags": []
   },
   "outputs": [],
   "source": [
    "from sklearn.model_selection import train_test_split\n",
    "X_train, X_test, y_train, y_test = train_test_split(X, y, test_size = 0.2, random_state = 0)"
   ]
  },
  {
   "cell_type": "code",
   "execution_count": 19,
   "id": "acc0a39d",
   "metadata": {
    "execution": {
     "iopub.execute_input": "2023-07-24T05:11:30.215153Z",
     "iopub.status.busy": "2023-07-24T05:11:30.214744Z",
     "iopub.status.idle": "2023-07-24T05:11:30.222738Z",
     "shell.execute_reply": "2023-07-24T05:11:30.221825Z"
    },
    "papermill": {
     "duration": 0.018715,
     "end_time": "2023-07-24T05:11:30.225105",
     "exception": false,
     "start_time": "2023-07-24T05:11:30.206390",
     "status": "completed"
    },
    "tags": []
   },
   "outputs": [],
   "source": [
    "from sklearn.preprocessing import StandardScaler\n",
    "sc = StandardScaler()\n",
    "X_train = sc.fit_transform(X_train)\n",
    "X_test = sc.transform(X_test)"
   ]
  },
  {
   "cell_type": "code",
   "execution_count": 20,
   "id": "2d9c1614",
   "metadata": {
    "execution": {
     "iopub.execute_input": "2023-07-24T05:11:30.240736Z",
     "iopub.status.busy": "2023-07-24T05:11:30.240309Z",
     "iopub.status.idle": "2023-07-24T05:11:30.542933Z",
     "shell.execute_reply": "2023-07-24T05:11:30.541818Z"
    },
    "papermill": {
     "duration": 0.313004,
     "end_time": "2023-07-24T05:11:30.545107",
     "exception": false,
     "start_time": "2023-07-24T05:11:30.232103",
     "status": "completed"
    },
    "tags": []
   },
   "outputs": [
    {
     "data": {
      "text/html": [
       "<style>#sk-container-id-1 {color: black;}#sk-container-id-1 pre{padding: 0;}#sk-container-id-1 div.sk-toggleable {background-color: white;}#sk-container-id-1 label.sk-toggleable__label {cursor: pointer;display: block;width: 100%;margin-bottom: 0;padding: 0.3em;box-sizing: border-box;text-align: center;}#sk-container-id-1 label.sk-toggleable__label-arrow:before {content: \"▸\";float: left;margin-right: 0.25em;color: #696969;}#sk-container-id-1 label.sk-toggleable__label-arrow:hover:before {color: black;}#sk-container-id-1 div.sk-estimator:hover label.sk-toggleable__label-arrow:before {color: black;}#sk-container-id-1 div.sk-toggleable__content {max-height: 0;max-width: 0;overflow: hidden;text-align: left;background-color: #f0f8ff;}#sk-container-id-1 div.sk-toggleable__content pre {margin: 0.2em;color: black;border-radius: 0.25em;background-color: #f0f8ff;}#sk-container-id-1 input.sk-toggleable__control:checked~div.sk-toggleable__content {max-height: 200px;max-width: 100%;overflow: auto;}#sk-container-id-1 input.sk-toggleable__control:checked~label.sk-toggleable__label-arrow:before {content: \"▾\";}#sk-container-id-1 div.sk-estimator input.sk-toggleable__control:checked~label.sk-toggleable__label {background-color: #d4ebff;}#sk-container-id-1 div.sk-label input.sk-toggleable__control:checked~label.sk-toggleable__label {background-color: #d4ebff;}#sk-container-id-1 input.sk-hidden--visually {border: 0;clip: rect(1px 1px 1px 1px);clip: rect(1px, 1px, 1px, 1px);height: 1px;margin: -1px;overflow: hidden;padding: 0;position: absolute;width: 1px;}#sk-container-id-1 div.sk-estimator {font-family: monospace;background-color: #f0f8ff;border: 1px dotted black;border-radius: 0.25em;box-sizing: border-box;margin-bottom: 0.5em;}#sk-container-id-1 div.sk-estimator:hover {background-color: #d4ebff;}#sk-container-id-1 div.sk-parallel-item::after {content: \"\";width: 100%;border-bottom: 1px solid gray;flex-grow: 1;}#sk-container-id-1 div.sk-label:hover label.sk-toggleable__label {background-color: #d4ebff;}#sk-container-id-1 div.sk-serial::before {content: \"\";position: absolute;border-left: 1px solid gray;box-sizing: border-box;top: 0;bottom: 0;left: 50%;z-index: 0;}#sk-container-id-1 div.sk-serial {display: flex;flex-direction: column;align-items: center;background-color: white;padding-right: 0.2em;padding-left: 0.2em;position: relative;}#sk-container-id-1 div.sk-item {position: relative;z-index: 1;}#sk-container-id-1 div.sk-parallel {display: flex;align-items: stretch;justify-content: center;background-color: white;position: relative;}#sk-container-id-1 div.sk-item::before, #sk-container-id-1 div.sk-parallel-item::before {content: \"\";position: absolute;border-left: 1px solid gray;box-sizing: border-box;top: 0;bottom: 0;left: 50%;z-index: -1;}#sk-container-id-1 div.sk-parallel-item {display: flex;flex-direction: column;z-index: 1;position: relative;background-color: white;}#sk-container-id-1 div.sk-parallel-item:first-child::after {align-self: flex-end;width: 50%;}#sk-container-id-1 div.sk-parallel-item:last-child::after {align-self: flex-start;width: 50%;}#sk-container-id-1 div.sk-parallel-item:only-child::after {width: 0;}#sk-container-id-1 div.sk-dashed-wrapped {border: 1px dashed gray;margin: 0 0.4em 0.5em 0.4em;box-sizing: border-box;padding-bottom: 0.4em;background-color: white;}#sk-container-id-1 div.sk-label label {font-family: monospace;font-weight: bold;display: inline-block;line-height: 1.2em;}#sk-container-id-1 div.sk-label-container {text-align: center;}#sk-container-id-1 div.sk-container {/* jupyter's `normalize.less` sets `[hidden] { display: none; }` but bootstrap.min.css set `[hidden] { display: none !important; }` so we also need the `!important` here to be able to override the default hidden behavior on the sphinx rendered scikit-learn.org. See: https://github.com/scikit-learn/scikit-learn/issues/21755 */display: inline-block !important;position: relative;}#sk-container-id-1 div.sk-text-repr-fallback {display: none;}</style><div id=\"sk-container-id-1\" class=\"sk-top-container\"><div class=\"sk-text-repr-fallback\"><pre>SVC(random_state=0)</pre><b>In a Jupyter environment, please rerun this cell to show the HTML representation or trust the notebook. <br />On GitHub, the HTML representation is unable to render, please try loading this page with nbviewer.org.</b></div><div class=\"sk-container\" hidden><div class=\"sk-item\"><div class=\"sk-estimator sk-toggleable\"><input class=\"sk-toggleable__control sk-hidden--visually\" id=\"sk-estimator-id-1\" type=\"checkbox\" checked><label for=\"sk-estimator-id-1\" class=\"sk-toggleable__label sk-toggleable__label-arrow\">SVC</label><div class=\"sk-toggleable__content\"><pre>SVC(random_state=0)</pre></div></div></div></div></div>"
      ],
      "text/plain": [
       "SVC(random_state=0)"
      ]
     },
     "execution_count": 20,
     "metadata": {},
     "output_type": "execute_result"
    }
   ],
   "source": [
    "from sklearn.svm import SVC\n",
    "classifier = SVC(kernel = 'rbf', random_state = 0)\n",
    "classifier.fit(X_train, y_train)"
   ]
  },
  {
   "cell_type": "code",
   "execution_count": 21,
   "id": "c2f9581b",
   "metadata": {
    "execution": {
     "iopub.execute_input": "2023-07-24T05:11:30.561573Z",
     "iopub.status.busy": "2023-07-24T05:11:30.560907Z",
     "iopub.status.idle": "2023-07-24T05:11:30.615073Z",
     "shell.execute_reply": "2023-07-24T05:11:30.613795Z"
    },
    "papermill": {
     "duration": 0.065303,
     "end_time": "2023-07-24T05:11:30.617489",
     "exception": false,
     "start_time": "2023-07-24T05:11:30.552186",
     "status": "completed"
    },
    "tags": []
   },
   "outputs": [
    {
     "data": {
      "text/plain": [
       "0.9678217821782178"
      ]
     },
     "execution_count": 21,
     "metadata": {},
     "output_type": "execute_result"
    }
   ],
   "source": [
    "classifier.score(X_test,y_test)"
   ]
  },
  {
   "cell_type": "code",
   "execution_count": 22,
   "id": "eb0e19fd",
   "metadata": {},
   "outputs": [],
   "source": [
    "import pickle"
   ]
  },
  {
   "cell_type": "code",
   "execution_count": 23,
   "id": "eed6202b",
   "metadata": {},
   "outputs": [
    {
     "data": {
      "text/html": [
       "<style>#sk-container-id-2 {color: black;}#sk-container-id-2 pre{padding: 0;}#sk-container-id-2 div.sk-toggleable {background-color: white;}#sk-container-id-2 label.sk-toggleable__label {cursor: pointer;display: block;width: 100%;margin-bottom: 0;padding: 0.3em;box-sizing: border-box;text-align: center;}#sk-container-id-2 label.sk-toggleable__label-arrow:before {content: \"▸\";float: left;margin-right: 0.25em;color: #696969;}#sk-container-id-2 label.sk-toggleable__label-arrow:hover:before {color: black;}#sk-container-id-2 div.sk-estimator:hover label.sk-toggleable__label-arrow:before {color: black;}#sk-container-id-2 div.sk-toggleable__content {max-height: 0;max-width: 0;overflow: hidden;text-align: left;background-color: #f0f8ff;}#sk-container-id-2 div.sk-toggleable__content pre {margin: 0.2em;color: black;border-radius: 0.25em;background-color: #f0f8ff;}#sk-container-id-2 input.sk-toggleable__control:checked~div.sk-toggleable__content {max-height: 200px;max-width: 100%;overflow: auto;}#sk-container-id-2 input.sk-toggleable__control:checked~label.sk-toggleable__label-arrow:before {content: \"▾\";}#sk-container-id-2 div.sk-estimator input.sk-toggleable__control:checked~label.sk-toggleable__label {background-color: #d4ebff;}#sk-container-id-2 div.sk-label input.sk-toggleable__control:checked~label.sk-toggleable__label {background-color: #d4ebff;}#sk-container-id-2 input.sk-hidden--visually {border: 0;clip: rect(1px 1px 1px 1px);clip: rect(1px, 1px, 1px, 1px);height: 1px;margin: -1px;overflow: hidden;padding: 0;position: absolute;width: 1px;}#sk-container-id-2 div.sk-estimator {font-family: monospace;background-color: #f0f8ff;border: 1px dotted black;border-radius: 0.25em;box-sizing: border-box;margin-bottom: 0.5em;}#sk-container-id-2 div.sk-estimator:hover {background-color: #d4ebff;}#sk-container-id-2 div.sk-parallel-item::after {content: \"\";width: 100%;border-bottom: 1px solid gray;flex-grow: 1;}#sk-container-id-2 div.sk-label:hover label.sk-toggleable__label {background-color: #d4ebff;}#sk-container-id-2 div.sk-serial::before {content: \"\";position: absolute;border-left: 1px solid gray;box-sizing: border-box;top: 0;bottom: 0;left: 50%;z-index: 0;}#sk-container-id-2 div.sk-serial {display: flex;flex-direction: column;align-items: center;background-color: white;padding-right: 0.2em;padding-left: 0.2em;position: relative;}#sk-container-id-2 div.sk-item {position: relative;z-index: 1;}#sk-container-id-2 div.sk-parallel {display: flex;align-items: stretch;justify-content: center;background-color: white;position: relative;}#sk-container-id-2 div.sk-item::before, #sk-container-id-2 div.sk-parallel-item::before {content: \"\";position: absolute;border-left: 1px solid gray;box-sizing: border-box;top: 0;bottom: 0;left: 50%;z-index: -1;}#sk-container-id-2 div.sk-parallel-item {display: flex;flex-direction: column;z-index: 1;position: relative;background-color: white;}#sk-container-id-2 div.sk-parallel-item:first-child::after {align-self: flex-end;width: 50%;}#sk-container-id-2 div.sk-parallel-item:last-child::after {align-self: flex-start;width: 50%;}#sk-container-id-2 div.sk-parallel-item:only-child::after {width: 0;}#sk-container-id-2 div.sk-dashed-wrapped {border: 1px dashed gray;margin: 0 0.4em 0.5em 0.4em;box-sizing: border-box;padding-bottom: 0.4em;background-color: white;}#sk-container-id-2 div.sk-label label {font-family: monospace;font-weight: bold;display: inline-block;line-height: 1.2em;}#sk-container-id-2 div.sk-label-container {text-align: center;}#sk-container-id-2 div.sk-container {/* jupyter's `normalize.less` sets `[hidden] { display: none; }` but bootstrap.min.css set `[hidden] { display: none !important; }` so we also need the `!important` here to be able to override the default hidden behavior on the sphinx rendered scikit-learn.org. See: https://github.com/scikit-learn/scikit-learn/issues/21755 */display: inline-block !important;position: relative;}#sk-container-id-2 div.sk-text-repr-fallback {display: none;}</style><div id=\"sk-container-id-2\" class=\"sk-top-container\"><div class=\"sk-text-repr-fallback\"><pre>StandardScaler()</pre><b>In a Jupyter environment, please rerun this cell to show the HTML representation or trust the notebook. <br />On GitHub, the HTML representation is unable to render, please try loading this page with nbviewer.org.</b></div><div class=\"sk-container\" hidden><div class=\"sk-item\"><div class=\"sk-estimator sk-toggleable\"><input class=\"sk-toggleable__control sk-hidden--visually\" id=\"sk-estimator-id-2\" type=\"checkbox\" checked><label for=\"sk-estimator-id-2\" class=\"sk-toggleable__label sk-toggleable__label-arrow\">StandardScaler</label><div class=\"sk-toggleable__content\"><pre>StandardScaler()</pre></div></div></div></div></div>"
      ],
      "text/plain": [
       "StandardScaler()"
      ]
     },
     "execution_count": 23,
     "metadata": {},
     "output_type": "execute_result"
    }
   ],
   "source": [
    "model = StandardScaler()\n",
    "model.fit(X_train, y_train)"
   ]
  },
  {
   "cell_type": "code",
   "execution_count": 24,
   "id": "76ac4ea4",
   "metadata": {},
   "outputs": [],
   "source": [
    "pickle.dump(model, open('model.pkl','wb'))"
   ]
  },
  {
   "cell_type": "code",
   "execution_count": null,
   "id": "92d0063e",
   "metadata": {},
   "outputs": [],
   "source": []
  }
 ],
 "metadata": {
  "kernelspec": {
   "display_name": "Python 3 (ipykernel)",
   "language": "python",
   "name": "python3"
  },
  "language_info": {
   "codemirror_mode": {
    "name": "ipython",
    "version": 3
   },
   "file_extension": ".py",
   "mimetype": "text/x-python",
   "name": "python",
   "nbconvert_exporter": "python",
   "pygments_lexer": "ipython3",
   "version": "3.11.4"
  },
  "papermill": {
   "default_parameters": {},
   "duration": 13.605237,
   "end_time": "2023-07-24T05:11:31.650403",
   "environment_variables": {},
   "exception": null,
   "input_path": "__notebook__.ipynb",
   "output_path": "__notebook__.ipynb",
   "parameters": {},
   "start_time": "2023-07-24T05:11:18.045166",
   "version": "2.4.0"
  }
 },
 "nbformat": 4,
 "nbformat_minor": 5
}
